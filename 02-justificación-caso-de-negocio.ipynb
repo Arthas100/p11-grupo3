{
 "cells": [
  {
   "cell_type": "markdown",
   "metadata": {},
   "source": [
    "# JUSTIFICACIÓN DEL CASO DE NEGOCIO"
   ]
  },
  {
   "cell_type": "markdown",
   "metadata": {},
   "source": [
    "Para este caso práctico vamos a considerar la información de nuestro dataset, que tiene información proporcionada de 280,000 usuarios.\n",
    "\n",
    "Así, consiedraremos que nuestro servicio de streaming tendrá 280 mil usuarios activos, quienes hasta el momento han efectuado 27,000,000 de ratings.\n",
    "\n",
    "Con esta información, vamos a justificar que nuestro proyecto está enmarcado dentro de las cinco 'V' del Big Data:\n",
    "\n",
    "- **Volumen**:\n",
    "<p>Los 280 mil usuarios activos generan mucha información adicional nueva, con lo que el volumen es y será cada vez más alto.<p>\n",
    "<br>\n",
    "    \n",
    "- **Velocidad**:\n",
    "<p>Se necesita que la información se reciba de forma rápida, que el algoritmo de Machine Learning procese los nuevos datos rápidamente, y que se entregue los resultados de la predicción de forma rápida para brindar recomendaciones de calidad a los usuarios<p>\n",
    "<br>\n",
    "\n",
    "- **Variedad de los datos**:\n",
    "<p>La información se obtiene de variadas formas, a través de logs o inserciones en la base de datos<p>\n",
    "<br>\n",
    "\n",
    "- **Veracidad de los datos**:\n",
    "<p>Se necesita que los datos sean lo más veraces posible para que el módelo pueda hacer una buena predicción.<p>\n",
    "<br>\n",
    "\n",
    "- **Valor de los datos**:\n",
    "<p>El valor entregado para este caso es de vital importancia, ya que en esta industria tener un buen sistema de recomendación bien entrenado es requisito indispensable para retener al usuario con lo que tenemos disponible.<p>\n",
    "<br>"
   ]
  },
  {
   "cell_type": "code",
   "execution_count": null,
   "metadata": {},
   "outputs": [],
   "source": []
  }
 ],
 "metadata": {
  "kernelspec": {
   "display_name": "Python 3",
   "language": "python",
   "name": "python3"
  },
  "language_info": {
   "codemirror_mode": {
    "name": "ipython",
    "version": 3
   },
   "file_extension": ".py",
   "mimetype": "text/x-python",
   "name": "python",
   "nbconvert_exporter": "python",
   "pygments_lexer": "ipython3",
   "version": "3.7.1"
  }
 },
 "nbformat": 4,
 "nbformat_minor": 2
}
