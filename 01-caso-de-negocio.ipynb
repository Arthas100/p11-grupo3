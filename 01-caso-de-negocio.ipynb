{
 "cells": [
  {
   "cell_type": "markdown",
   "metadata": {},
   "source": [
    "# CASO DE NEGOCIO"
   ]
  },
  {
   "cell_type": "markdown",
   "metadata": {},
   "source": [
    "En la actualidad, gracias a herramientas como el Big Data y el Machine Learning, las empresas pueden ofrecer mejores y nuevos servicios. Ignorar estas herramientas puede ocasionarles en el futuro, menos rentabilidad en el mejor de los casos, o la quiebra.\n",
    "\n",
    "Tal es el caso de Disney y Apple, que ampliando su línea de negocio, han sacado sus servicios de Apple TV Plus y Disney Plus, para competir con Amazon Prime Video, Hulu y el más usado Netflix.\n",
    "\n",
    "En el pasado, Blockbuster no buscó renovarse tecnológicamente y terminó quebrando. Eso lo saben muy bien los actuales gerentes de estas gigantes empresas.\n",
    "\n",
    "Tenemos a la alta disponibilidad del servicio, la usabilidad, y el sistema de recomendación como ejes fundamentales de cualquier servicio de streaming de películas y series.\n",
    "\n",
    "En el presente trabajo vamos a simular el flujo de información necesario para un sistema de recomendación basado en rátings. Tomaremos este flujo de datos y crearemos un módelo de Machine Learning que pueda predecir las mejores recomenciones a los usuarios.\n",
    "\n",
    "Usaremos el dataset de MovieLens:\n",
    "https://grouplens.org/datasets/movielens/latest/\n"
   ]
  },
  {
   "cell_type": "code",
   "execution_count": null,
   "metadata": {},
   "outputs": [],
   "source": []
  }
 ],
 "metadata": {
  "kernelspec": {
   "display_name": "Python 3",
   "language": "python",
   "name": "python3"
  },
  "language_info": {
   "codemirror_mode": {
    "name": "ipython",
    "version": 3
   },
   "file_extension": ".py",
   "mimetype": "text/x-python",
   "name": "python",
   "nbconvert_exporter": "python",
   "pygments_lexer": "ipython3",
   "version": "3.7.1"
  }
 },
 "nbformat": 4,
 "nbformat_minor": 2
}
